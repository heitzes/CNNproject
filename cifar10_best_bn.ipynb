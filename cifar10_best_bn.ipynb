{
 "cells": [
  {
   "cell_type": "code",
   "execution_count": 27,
   "metadata": {},
   "outputs": [],
   "source": [
    "import torch\n",
    "import torchvision\n",
    "import torchvision.transforms as transforms\n",
    "import torch.nn as nn\n",
    "import torch.nn.functional as F\n",
    "import torch.optim as optim\n",
    "import matplotlib.pyplot as plt\n",
    "import numpy as np\n",
    "import torch.nn.init as init\n",
    "import time"
   ]
  },
  {
   "cell_type": "code",
   "execution_count": 28,
   "metadata": {},
   "outputs": [
    {
     "name": "stdout",
     "output_type": "stream",
     "text": [
      "Files already downloaded and verified\n"
     ]
    }
   ],
   "source": [
    "#pre-processing\n",
    "transform = transforms.Compose([\n",
    "    transforms.ToTensor()\n",
    "])\n",
    "dataset = torchvision.datasets.CIFAR10(root='./data/cifar10', train=True, download=True, transform=transform) \n",
    "mean = dataset.data.mean(axis=(0,1,2))\n",
    "std = dataset.data.std(axis=(0,1,2))\n",
    "mean = mean / 255\n",
    "std = std / 255"
   ]
  },
  {
   "cell_type": "code",
   "execution_count": 29,
   "metadata": {},
   "outputs": [
    {
     "data": {
      "text/plain": [
       "(array([0.49139968, 0.48215841, 0.44653091]),\n",
       " array([0.24703223, 0.24348513, 0.26158784]))"
      ]
     },
     "execution_count": 29,
     "metadata": {},
     "output_type": "execute_result"
    }
   ],
   "source": [
    "mean, std"
   ]
  },
  {
   "cell_type": "code",
   "execution_count": 30,
   "metadata": {},
   "outputs": [
    {
     "name": "stdout",
     "output_type": "stream",
     "text": [
      "Files already downloaded and verified\n",
      "Files already downloaded and verified\n"
     ]
    }
   ],
   "source": [
    "transform_train = transforms.Compose(\n",
    "    [transforms.ToTensor(),\n",
    "     transforms.RandomHorizontalFlip(p=0.5),\n",
    "    transforms.RandomCrop(32, padding=4),\n",
    "     transforms.RandomAffine(10),\n",
    "    transforms.Normalize(mean, std)])\n",
    "\n",
    "transform_test = transforms.Compose(\n",
    "    [transforms.ToTensor(),\n",
    "    transforms.Normalize(mean, std)])\n",
    "\n",
    "\n",
    "trainset = torchvision.datasets.CIFAR10(root='./data', train=True,download=True, transform=transform_train)\n",
    "\n",
    "testset = torchvision.datasets.CIFAR10(root='./data', train=False, download=True, transform=transform_test)\n",
    "\n",
    "classes = ('plane', 'car', 'bird', 'cat', 'deer', 'dog', 'frog', 'horse', 'ship', 'truck')"
   ]
  },
  {
   "cell_type": "code",
   "execution_count": 31,
   "metadata": {},
   "outputs": [],
   "source": [
    "trainloader = torch.utils.data.DataLoader(trainset, batch_size=128, shuffle=True)\n",
    "testloader = torch.utils.data.DataLoader(testset, batch_size=128, shuffle=False)"
   ]
  },
  {
   "cell_type": "code",
   "execution_count": 32,
   "metadata": {},
   "outputs": [
    {
     "name": "stderr",
     "output_type": "stream",
     "text": [
      "Clipping input data to the valid range for imshow with RGB data ([0..1] for floats or [0..255] for integers).\n"
     ]
    },
    {
     "data": {
      "image/png": "[encoded data removed]",
      "text/plain": [
       "<Figure size 432x288 with 1 Axes>"
      ]
     },
     "metadata": {
      "needs_background": "light"
     },
     "output_type": "display_data"
    }
   ],
   "source": [
    "# 이미지를 보여주기 위한 함수\n",
    "\n",
    "def imshow(img):\n",
    "    img = img / 2 + 0.5     # unnormalize\n",
    "    npimg = img.numpy()\n",
    "    plt.imshow(np.transpose(npimg, (1, 2, 0)))\n",
    "    plt.show()\n",
    "\n",
    "\n",
    "# 학습용 이미지를 무작위로 가져오기\n",
    "dataiter = iter(trainloader)\n",
    "images, labels = dataiter.next()\n",
    "\n",
    "# 이미지 보여주기\n",
    "imshow(torchvision.utils.make_grid(images[4]))\n"
   ]
  },
  {
   "cell_type": "code",
   "execution_count": 33,
   "metadata": {},
   "outputs": [
    {
     "name": "stdout",
     "output_type": "stream",
     "text": [
      "    d o g\n"
     ]
    }
   ],
   "source": [
    "# 정답(label) 출력\n",
    "print(' '.join('%5s' % classes[labels[4]]))"
   ]
  },
  {
   "cell_type": "code",
   "execution_count": 34,
   "metadata": {},
   "outputs": [
    {
     "name": "stderr",
     "output_type": "stream",
     "text": [
      "Using cache found in /home/heitz/.cache/torch/hub/pytorch_vision_v0.6.0\n"
     ]
    },
    {
     "data": {
      "text/plain": [
       "AlexNet(\n",
       "  (features): Sequential(\n",
       "    (0): Conv2d(3, 64, kernel_size=(11, 11), stride=(4, 4), padding=(2, 2))\n",
       "    (1): ReLU(inplace=True)\n",
       "    (2): MaxPool2d(kernel_size=3, stride=2, padding=0, dilation=1, ceil_mode=False)\n",
       "    (3): Conv2d(64, 192, kernel_size=(5, 5), stride=(1, 1), padding=(2, 2))\n",
       "    (4): ReLU(inplace=True)\n",
       "    (5): MaxPool2d(kernel_size=3, stride=2, padding=0, dilation=1, ceil_mode=False)\n",
       "    (6): Conv2d(192, 384, kernel_size=(3, 3), stride=(1, 1), padding=(1, 1))\n",
       "    (7): ReLU(inplace=True)\n",
       "    (8): Conv2d(384, 256, kernel_size=(3, 3), stride=(1, 1), padding=(1, 1))\n",
       "    (9): ReLU(inplace=True)\n",
       "    (10): Conv2d(256, 256, kernel_size=(3, 3), stride=(1, 1), padding=(1, 1))\n",
       "    (11): ReLU(inplace=True)\n",
       "    (12): MaxPool2d(kernel_size=3, stride=2, padding=0, dilation=1, ceil_mode=False)\n",
       "  )\n",
       "  (avgpool): AdaptiveAvgPool2d(output_size=(6, 6))\n",
       "  (classifier): Sequential(\n",
       "    (0): Dropout(p=0.5, inplace=False)\n",
       "    (1): Linear(in_features=9216, out_features=4096, bias=True)\n",
       "    (2): ReLU(inplace=True)\n",
       "    (3): Dropout(p=0.5, inplace=False)\n",
       "    (4): Linear(in_features=4096, out_features=4096, bias=True)\n",
       "    (5): ReLU(inplace=True)\n",
       "    (6): Linear(in_features=4096, out_features=1000, bias=True)\n",
       "  )\n",
       ")"
      ]
     },
     "execution_count": 34,
     "metadata": {},
     "output_type": "execute_result"
    }
   ],
   "source": [
    "#Now using the AlexNet\n",
    "AlexNet_model = torch.hub.load('pytorch/vision:v0.6.0', 'alexnet', pretrained=False)\n",
    "\n",
    "#Model description\n",
    "AlexNet_model.eval()"
   ]
  },
  {
   "cell_type": "code",
   "execution_count": 35,
   "metadata": {},
   "outputs": [],
   "source": [
    "AlexNet_model.features = nn.Sequential(\n",
    "    AlexNet_model.features[0],nn.BatchNorm2d(96),AlexNet_model.features[1],AlexNet_model.features[2],AlexNet_model.features[3],\n",
    "    nn.BatchNorm2d(256),AlexNet_model.features[4],AlexNet_model.features[5],AlexNet_model.features[6],\n",
    "    nn.BatchNorm2d(384),AlexNet_model.features[7],AlexNet_model.features[8],\n",
    "    nn.BatchNorm2d(384),AlexNet_model.features[9],AlexNet_model.features[10],\n",
    "    nn.BatchNorm2d(256),AlexNet_model.features[11],AlexNet_model.features[12]\n",
    ")"
   ]
  },
  {
   "cell_type": "code",
   "execution_count": 36,
   "metadata": {},
   "outputs": [
    {
     "data": {
      "text/plain": [
       "AlexNet(\n",
       "  (features): Sequential(\n",
       "    (0): Conv2d(3, 64, kernel_size=(11, 11), stride=(4, 4), padding=(2, 2))\n",
       "    (1): BatchNorm2d(96, eps=1e-05, momentum=0.1, affine=True, track_running_stats=True)\n",
       "    (2): ReLU(inplace=True)\n",
       "    (3): MaxPool2d(kernel_size=3, stride=2, padding=0, dilation=1, ceil_mode=False)\n",
       "    (4): Conv2d(64, 192, kernel_size=(5, 5), stride=(1, 1), padding=(2, 2))\n",
       "    (5): BatchNorm2d(256, eps=1e-05, momentum=0.1, affine=True, track_running_stats=True)\n",
       "    (6): ReLU(inplace=True)\n",
       "    (7): MaxPool2d(kernel_size=3, stride=2, padding=0, dilation=1, ceil_mode=False)\n",
       "    (8): Conv2d(192, 384, kernel_size=(3, 3), stride=(1, 1), padding=(1, 1))\n",
       "    (9): BatchNorm2d(384, eps=1e-05, momentum=0.1, affine=True, track_running_stats=True)\n",
       "    (10): ReLU(inplace=True)\n",
       "    (11): Conv2d(384, 256, kernel_size=(3, 3), stride=(1, 1), padding=(1, 1))\n",
       "    (12): BatchNorm2d(384, eps=1e-05, momentum=0.1, affine=True, track_running_stats=True)\n",
       "    (13): ReLU(inplace=True)\n",
       "    (14): Conv2d(256, 256, kernel_size=(3, 3), stride=(1, 1), padding=(1, 1))\n",
       "    (15): BatchNorm2d(256, eps=1e-05, momentum=0.1, affine=True, track_running_stats=True)\n",
       "    (16): ReLU(inplace=True)\n",
       "    (17): MaxPool2d(kernel_size=3, stride=2, padding=0, dilation=1, ceil_mode=False)\n",
       "  )\n",
       "  (avgpool): AdaptiveAvgPool2d(output_size=(6, 6))\n",
       "  (classifier): Sequential(\n",
       "    (0): Dropout(p=0.5, inplace=False)\n",
       "    (1): Linear(in_features=9216, out_features=4096, bias=True)\n",
       "    (2): ReLU(inplace=True)\n",
       "    (3): Dropout(p=0.5, inplace=False)\n",
       "    (4): Linear(in_features=4096, out_features=4096, bias=True)\n",
       "    (5): ReLU(inplace=True)\n",
       "    (6): Linear(in_features=4096, out_features=1000, bias=True)\n",
       "  )\n",
       ")"
      ]
     },
     "execution_count": 36,
     "metadata": {},
     "output_type": "execute_result"
    }
   ],
   "source": [
    "AlexNet_model"
   ]
  },
  {
   "cell_type": "code",
   "execution_count": 37,
   "metadata": {},
   "outputs": [],
   "source": [
    "#CV layer\n",
    "AlexNet_model.features[0] = nn.Conv2d(3, 96, kernel_size=(5, 5), stride=(1, 1), padding=(2, 2))\n",
    "AlexNet_model.features[3] = nn.MaxPool2d(kernel_size=2, stride=1, padding=0, dilation=1, ceil_mode=False)\n",
    "AlexNet_model.features[4] = nn.Conv2d(96, 256, kernel_size=(3, 3), stride=(1, 1), padding=(1, 1))\n",
    "AlexNet_model.features[7] = nn.MaxPool2d(kernel_size=3, stride=2, padding=0, dilation=1, ceil_mode=False)\n",
    "AlexNet_model.features[8] = nn.Conv2d(256, 384, kernel_size=(3, 3), stride=(1, 1), padding=(1, 1))\n",
    "AlexNet_model.features[11] = nn.Conv2d(384, 384, kernel_size=(3, 3), stride=(1, 1), padding=(1, 1))\n",
    "AlexNet_model.features[14] = nn.Conv2d(384, 256, kernel_size=(3, 3), stride=(1, 1), padding=(1, 1))\n",
    "AlexNet_model.features[17] = nn.MaxPool2d(kernel_size=3, stride=2, padding=0, dilation=1, ceil_mode=False)\n",
    "#output\n",
    "AlexNet_model.avgpool = nn.AdaptiveAvgPool2d(output_size=(7, 7))\n",
    "\n",
    "#Updating the second classifier\n",
    "AlexNet_model.classifier[1] = nn.Linear(12544,4096)\n",
    "\n",
    "#Updating the second classifier\n",
    "AlexNet_model.classifier[4] = nn.Linear(4096,1024)\n",
    "\n",
    "#Updating the third and the last classifier that is the output layer of the network. Make sure to have 10 output nodes if we are going to get 10 class labels through our model.\n",
    "AlexNet_model.classifier[6] = nn.Linear(1024,10)\n"
   ]
  },
  {
   "cell_type": "code",
   "execution_count": 38,
   "metadata": {},
   "outputs": [
    {
     "name": "stdout",
     "output_type": "stream",
     "text": [
      "cuda:1\n"
     ]
    },
    {
     "data": {
      "text/plain": [
       "AlexNet(\n",
       "  (features): Sequential(\n",
       "    (0): Conv2d(3, 96, kernel_size=(5, 5), stride=(1, 1), padding=(2, 2))\n",
       "    (1): BatchNorm2d(96, eps=1e-05, momentum=0.1, affine=True, track_running_stats=True)\n",
       "    (2): ReLU(inplace=True)\n",
       "    (3): MaxPool2d(kernel_size=2, stride=1, padding=0, dilation=1, ceil_mode=False)\n",
       "    (4): Conv2d(96, 256, kernel_size=(3, 3), stride=(1, 1), padding=(1, 1))\n",
       "    (5): BatchNorm2d(256, eps=1e-05, momentum=0.1, affine=True, track_running_stats=True)\n",
       "    (6): ReLU(inplace=True)\n",
       "    (7): MaxPool2d(kernel_size=3, stride=2, padding=0, dilation=1, ceil_mode=False)\n",
       "    (8): Conv2d(256, 384, kernel_size=(3, 3), stride=(1, 1), padding=(1, 1))\n",
       "    (9): BatchNorm2d(384, eps=1e-05, momentum=0.1, affine=True, track_running_stats=True)\n",
       "    (10): ReLU(inplace=True)\n",
       "    (11): Conv2d(384, 384, kernel_size=(3, 3), stride=(1, 1), padding=(1, 1))\n",
       "    (12): BatchNorm2d(384, eps=1e-05, momentum=0.1, affine=True, track_running_stats=True)\n",
       "    (13): ReLU(inplace=True)\n",
       "    (14): Conv2d(384, 256, kernel_size=(3, 3), stride=(1, 1), padding=(1, 1))\n",
       "    (15): BatchNorm2d(256, eps=1e-05, momentum=0.1, affine=True, track_running_stats=True)\n",
       "    (16): ReLU(inplace=True)\n",
       "    (17): MaxPool2d(kernel_size=3, stride=2, padding=0, dilation=1, ceil_mode=False)\n",
       "  )\n",
       "  (avgpool): AdaptiveAvgPool2d(output_size=(7, 7))\n",
       "  (classifier): Sequential(\n",
       "    (0): Dropout(p=0.5, inplace=False)\n",
       "    (1): Linear(in_features=12544, out_features=4096, bias=True)\n",
       "    (2): ReLU(inplace=True)\n",
       "    (3): Dropout(p=0.5, inplace=False)\n",
       "    (4): Linear(in_features=4096, out_features=1024, bias=True)\n",
       "    (5): ReLU(inplace=True)\n",
       "    (6): Linear(in_features=1024, out_features=10, bias=True)\n",
       "  )\n",
       ")"
      ]
     },
     "execution_count": 38,
     "metadata": {},
     "output_type": "execute_result"
    }
   ],
   "source": [
    "#Instantiating CUDA device\n",
    "device = torch.device(\"cuda:1\" if torch.cuda.is_available() else \"cpu\")\n",
    "\n",
    "#Verifying CUDA\n",
    "print(device)\n",
    "\n",
    "#Weight initializing\n",
    "#AlexNet_model.apply(weight_init)\n",
    "\n",
    "#Move the input and AlexNet_model to GPU for speed if available\n",
    "AlexNet_model.to(device)"
   ]
  },
  {
   "cell_type": "code",
   "execution_count": 39,
   "metadata": {},
   "outputs": [],
   "source": [
    "train_losses = []\n",
    "test_losses = []\n",
    "train_accs = []\n",
    "test_accs = []"
   ]
  },
  {
   "cell_type": "code",
   "execution_count": 40,
   "metadata": {
    "scrolled": true
   },
   "outputs": [
    {
     "name": "stdout",
     "output_type": "stream",
     "text": [
      "[1,   100] loss: 2.265\n",
      "[1,   200] loss: 1.683\n",
      "[1,   300] loss: 1.503\n",
      "epoch:1 train_acc:50.50 test_acc:53.37\n",
      "epoch:1 train_loss:1.35 test_loss:1.29\n",
      "time: 93.4898989200592\n",
      "[2,   100] loss: 1.321\n",
      "[2,   200] loss: 1.256\n",
      "[2,   300] loss: 1.164\n",
      "epoch:2 train_acc:60.78 test_acc:62.08\n",
      "epoch:2 train_loss:1.10 test_loss:1.07\n",
      "time: 186.22208786010742\n",
      "[3,   100] loss: 1.080\n",
      "[3,   200] loss: 1.040\n",
      "[3,   300] loss: 1.004\n",
      "epoch:3 train_acc:66.16 test_acc:67.13\n",
      "epoch:3 train_loss:0.94 test_loss:0.94\n",
      "time: 279.9915256500244\n",
      "[4,   100] loss: 0.920\n",
      "[4,   200] loss: 0.930\n",
      "[4,   300] loss: 0.893\n",
      "epoch:4 train_acc:70.80 test_acc:72.74\n",
      "epoch:4 train_loss:0.82 test_loss:0.80\n",
      "time: 373.8429927825928\n",
      "[5,   100] loss: 0.821\n",
      "[5,   200] loss: 0.813\n",
      "[5,   300] loss: 0.801\n",
      "epoch:5 train_acc:73.53 test_acc:74.98\n",
      "epoch:5 train_loss:0.76 test_loss:0.75\n",
      "time: 466.62095737457275\n",
      "[6,   100] loss: 0.764\n",
      "[6,   200] loss: 0.753\n",
      "[6,   300] loss: 0.758\n",
      "epoch:6 train_acc:75.27 test_acc:75.88\n",
      "epoch:6 train_loss:0.70 test_loss:0.71\n",
      "time: 561.989052772522\n",
      "[7,   100] loss: 0.700\n",
      "[7,   200] loss: 0.705\n",
      "[7,   300] loss: 0.689\n",
      "epoch:7 train_acc:77.61 test_acc:77.19\n",
      "epoch:7 train_loss:0.63 test_loss:0.67\n",
      "time: 656.0752377510071\n",
      "[8,   100] loss: 0.660\n",
      "[8,   200] loss: 0.655\n",
      "[8,   300] loss: 0.642\n",
      "epoch:8 train_acc:78.29 test_acc:78.65\n",
      "epoch:8 train_loss:0.62 test_loss:0.64\n",
      "time: 750.2302982807159\n",
      "[9,   100] loss: 0.621\n",
      "[9,   200] loss: 0.611\n",
      "[9,   300] loss: 0.612\n",
      "epoch:9 train_acc:79.88 test_acc:80.72\n",
      "epoch:9 train_loss:0.57 test_loss:0.58\n",
      "time: 841.1677865982056\n",
      "[10,   100] loss: 0.576\n",
      "[10,   200] loss: 0.575\n",
      "[10,   300] loss: 0.584\n",
      "epoch:10 train_acc:78.98 test_acc:79.04\n",
      "epoch:10 train_loss:0.61 test_loss:0.63\n",
      "time: 921.9179062843323\n",
      "[11,   100] loss: 0.553\n",
      "[11,   200] loss: 0.545\n",
      "[11,   300] loss: 0.540\n",
      "epoch:11 train_acc:82.05 test_acc:80.17\n",
      "epoch:11 train_loss:0.52 test_loss:0.59\n",
      "time: 1002.6778292655945\n",
      "[12,   100] loss: 0.517\n",
      "[12,   200] loss: 0.536\n",
      "[12,   300] loss: 0.513\n",
      "epoch:12 train_acc:82.44 test_acc:81.43\n",
      "epoch:12 train_loss:0.50 test_loss:0.53\n",
      "time: 1083.419528722763\n",
      "[13,   100] loss: 0.500\n",
      "[13,   200] loss: 0.495\n",
      "[13,   300] loss: 0.501\n",
      "epoch:13 train_acc:83.64 test_acc:82.32\n",
      "epoch:13 train_loss:0.48 test_loss:0.53\n",
      "time: 1164.2055859565735\n",
      "[14,   100] loss: 0.467\n",
      "[14,   200] loss: 0.483\n",
      "[14,   300] loss: 0.486\n",
      "epoch:14 train_acc:84.94 test_acc:83.18\n",
      "epoch:14 train_loss:0.44 test_loss:0.50\n",
      "time: 1244.9602053165436\n",
      "[15,   100] loss: 0.457\n",
      "[15,   200] loss: 0.458\n",
      "[15,   300] loss: 0.473\n",
      "epoch:15 train_acc:85.55 test_acc:83.35\n",
      "epoch:15 train_loss:0.42 test_loss:0.50\n",
      "time: 1325.6994545459747\n",
      "[16,   100] loss: 0.432\n",
      "[16,   200] loss: 0.448\n",
      "[16,   300] loss: 0.436\n",
      "epoch:16 train_acc:85.88 test_acc:84.23\n",
      "epoch:16 train_loss:0.41 test_loss:0.47\n",
      "time: 1406.4148876667023\n",
      "[17,   100] loss: 0.406\n",
      "[17,   200] loss: 0.431\n",
      "[17,   300] loss: 0.423\n",
      "epoch:17 train_acc:85.54 test_acc:83.34\n",
      "epoch:17 train_loss:0.42 test_loss:0.51\n",
      "time: 1487.169311285019\n",
      "[18,   100] loss: 0.411\n",
      "[18,   200] loss: 0.411\n",
      "[18,   300] loss: 0.415\n",
      "epoch:18 train_acc:86.07 test_acc:84.06\n",
      "epoch:18 train_loss:0.40 test_loss:0.49\n",
      "time: 1567.887178182602\n",
      "[19,   100] loss: 0.379\n",
      "[19,   200] loss: 0.393\n",
      "[19,   300] loss: 0.403\n",
      "epoch:19 train_acc:87.63 test_acc:84.80\n",
      "epoch:19 train_loss:0.35 test_loss:0.48\n",
      "time: 1648.5735201835632\n",
      "[20,   100] loss: 0.375\n",
      "[20,   200] loss: 0.378\n",
      "[20,   300] loss: 0.373\n",
      "epoch:20 train_acc:87.19 test_acc:84.82\n",
      "epoch:20 train_loss:0.37 test_loss:0.46\n",
      "time: 1729.3280622959137\n",
      "[21,   100] loss: 0.345\n",
      "[21,   200] loss: 0.367\n",
      "[21,   300] loss: 0.378\n",
      "epoch:21 train_acc:88.38 test_acc:85.41\n",
      "epoch:21 train_loss:0.33 test_loss:0.45\n",
      "time: 1810.0492157936096\n",
      "[22,   100] loss: 0.354\n",
      "[22,   200] loss: 0.358\n",
      "[22,   300] loss: 0.363\n",
      "epoch:22 train_acc:88.90 test_acc:85.62\n",
      "epoch:22 train_loss:0.32 test_loss:0.44\n",
      "time: 1890.7903826236725\n",
      "[23,   100] loss: 0.325\n",
      "[23,   200] loss: 0.358\n",
      "[23,   300] loss: 0.345\n",
      "epoch:23 train_acc:88.10 test_acc:85.11\n",
      "epoch:23 train_loss:0.34 test_loss:0.45\n",
      "time: 1971.5547823905945\n",
      "[24,   100] loss: 0.330\n",
      "[24,   200] loss: 0.332\n",
      "[24,   300] loss: 0.340\n",
      "epoch:24 train_acc:89.15 test_acc:86.38\n",
      "epoch:24 train_loss:0.31 test_loss:0.42\n",
      "time: 2052.2777891159058\n",
      "[25,   100] loss: 0.326\n",
      "[25,   200] loss: 0.330\n",
      "[25,   300] loss: 0.326\n",
      "epoch:25 train_acc:89.75 test_acc:86.06\n",
      "epoch:25 train_loss:0.29 test_loss:0.43\n",
      "time: 2133.071934223175\n",
      "[26,   100] loss: 0.318\n",
      "[26,   200] loss: 0.322\n",
      "[26,   300] loss: 0.307\n",
      "epoch:26 train_acc:89.97 test_acc:85.90\n",
      "epoch:26 train_loss:0.29 test_loss:0.43\n",
      "time: 2213.8215992450714\n",
      "[27,   100] loss: 0.305\n",
      "[27,   200] loss: 0.308\n",
      "[27,   300] loss: 0.306\n",
      "epoch:27 train_acc:89.69 test_acc:86.00\n",
      "epoch:27 train_loss:0.30 test_loss:0.43\n",
      "time: 2294.542818069458\n",
      "[28,   100] loss: 0.290\n",
      "[28,   200] loss: 0.302\n",
      "[28,   300] loss: 0.308\n",
      "epoch:28 train_acc:89.73 test_acc:86.08\n",
      "epoch:28 train_loss:0.29 test_loss:0.43\n",
      "time: 2375.288435459137\n",
      "[29,   100] loss: 0.267\n",
      "[29,   200] loss: 0.300\n",
      "[29,   300] loss: 0.313\n",
      "epoch:29 train_acc:90.26 test_acc:86.67\n",
      "epoch:29 train_loss:0.28 test_loss:0.41\n",
      "time: 2456.067007780075\n",
      "[30,   100] loss: 0.277\n",
      "[30,   200] loss: 0.286\n",
      "[30,   300] loss: 0.287\n",
      "epoch:30 train_acc:91.41 test_acc:87.13\n",
      "epoch:30 train_loss:0.25 test_loss:0.40\n",
      "time: 2536.808562517166\n",
      "[31,   100] loss: 0.266\n",
      "[31,   200] loss: 0.274\n",
      "[31,   300] loss: 0.270\n",
      "epoch:31 train_acc:91.66 test_acc:87.31\n",
      "epoch:31 train_loss:0.24 test_loss:0.40\n",
      "time: 2617.587911605835\n",
      "[32,   100] loss: 0.254\n",
      "[32,   200] loss: 0.268\n",
      "[32,   300] loss: 0.285\n",
      "epoch:32 train_acc:92.01 test_acc:87.63\n",
      "epoch:32 train_loss:0.23 test_loss:0.39\n",
      "time: 2698.403956413269\n",
      "[33,   100] loss: 0.255\n",
      "[33,   200] loss: 0.258\n",
      "[33,   300] loss: 0.257\n",
      "epoch:33 train_acc:91.53 test_acc:87.38\n",
      "epoch:33 train_loss:0.24 test_loss:0.39\n",
      "time: 2779.18425321579\n",
      "[34,   100] loss: 0.255\n",
      "[34,   200] loss: 0.252\n",
      "[34,   300] loss: 0.259\n",
      "epoch:34 train_acc:92.03 test_acc:86.67\n",
      "epoch:34 train_loss:0.23 test_loss:0.41\n",
      "time: 2860.0116605758667\n",
      "[35,   100] loss: 0.233\n",
      "[35,   200] loss: 0.250\n",
      "[35,   300] loss: 0.259\n",
      "epoch:35 train_acc:92.31 test_acc:87.84\n",
      "epoch:35 train_loss:0.22 test_loss:0.39\n",
      "time: 2940.7301671504974\n",
      "[36,   100] loss: 0.239\n",
      "[36,   200] loss: 0.244\n",
      "[36,   300] loss: 0.247\n",
      "epoch:36 train_acc:92.02 test_acc:87.57\n",
      "epoch:36 train_loss:0.23 test_loss:0.40\n",
      "time: 3021.479621887207\n",
      "[37,   100] loss: 0.232\n",
      "[37,   200] loss: 0.233\n",
      "[37,   300] loss: 0.241\n",
      "epoch:37 train_acc:92.03 test_acc:87.57\n",
      "epoch:37 train_loss:0.23 test_loss:0.40\n",
      "time: 3102.2013535499573\n",
      "[38,   100] loss: 0.230\n",
      "[38,   200] loss: 0.235\n",
      "[38,   300] loss: 0.246\n",
      "epoch:38 train_acc:92.42 test_acc:87.76\n",
      "epoch:38 train_loss:0.22 test_loss:0.37\n",
      "time: 3182.9475104808807\n",
      "[39,   100] loss: 0.214\n",
      "[39,   200] loss: 0.232\n",
      "[39,   300] loss: 0.244\n",
      "epoch:39 train_acc:92.79 test_acc:87.75\n",
      "epoch:39 train_loss:0.20 test_loss:0.41\n",
      "time: 3263.6410896778107\n",
      "[40,   100] loss: 0.218\n",
      "[40,   200] loss: 0.219\n",
      "[40,   300] loss: 0.238\n",
      "epoch:40 train_acc:92.42 test_acc:86.53\n",
      "epoch:40 train_loss:0.22 test_loss:0.42\n",
      "time: 3344.3993911743164\n",
      "[41,   100] loss: 0.205\n",
      "[41,   200] loss: 0.231\n",
      "[41,   300] loss: 0.222\n",
      "epoch:41 train_acc:92.63 test_acc:87.44\n",
      "epoch:41 train_loss:0.21 test_loss:0.40\n",
      "time: 3425.246290922165\n",
      "[42,   100] loss: 0.204\n",
      "[42,   200] loss: 0.209\n",
      "[42,   300] loss: 0.222\n",
      "epoch:42 train_acc:93.57 test_acc:87.81\n",
      "epoch:42 train_loss:0.18 test_loss:0.39\n",
      "time: 3506.0514912605286\n",
      "[43,   100] loss: 0.202\n",
      "[43,   200] loss: 0.198\n",
      "[43,   300] loss: 0.215\n",
      "epoch:43 train_acc:92.88 test_acc:87.43\n",
      "epoch:43 train_loss:0.20 test_loss:0.43\n",
      "time: 3586.836669445038\n",
      "[44,   100] loss: 0.193\n",
      "[44,   200] loss: 0.215\n",
      "[44,   300] loss: 0.210\n",
      "epoch:44 train_acc:93.69 test_acc:88.39\n",
      "epoch:44 train_loss:0.18 test_loss:0.38\n",
      "time: 3667.545612335205\n",
      "[45,   100] loss: 0.199\n",
      "[45,   200] loss: 0.209\n",
      "[45,   300] loss: 0.206\n",
      "epoch:45 train_acc:93.23 test_acc:88.44\n",
      "epoch:45 train_loss:0.19 test_loss:0.39\n",
      "time: 3748.2620627880096\n",
      "[46,   100] loss: 0.199\n",
      "[46,   200] loss: 0.194\n",
      "[46,   300] loss: 0.206\n",
      "epoch:46 train_acc:94.30 test_acc:88.16\n",
      "epoch:46 train_loss:0.16 test_loss:0.38\n",
      "time: 3828.954750061035\n",
      "[47,   100] loss: 0.191\n",
      "[47,   200] loss: 0.192\n",
      "[47,   300] loss: 0.198\n",
      "epoch:47 train_acc:93.71 test_acc:87.62\n",
      "epoch:47 train_loss:0.18 test_loss:0.40\n",
      "time: 3909.74067902565\n"
     ]
    },
    {
     "name": "stdout",
     "output_type": "stream",
     "text": [
      "[48,   100] loss: 0.176\n",
      "[48,   200] loss: 0.189\n",
      "[48,   300] loss: 0.199\n",
      "epoch:48 train_acc:93.21 test_acc:87.65\n",
      "epoch:48 train_loss:0.19 test_loss:0.42\n",
      "time: 3990.5751254558563\n",
      "[49,   100] loss: 0.179\n",
      "[49,   200] loss: 0.181\n",
      "[49,   300] loss: 0.189\n",
      "epoch:49 train_acc:94.28 test_acc:88.37\n",
      "epoch:49 train_loss:0.16 test_loss:0.37\n",
      "time: 4071.2808122634888\n",
      "[50,   100] loss: 0.186\n",
      "[50,   200] loss: 0.188\n",
      "[50,   300] loss: 0.192\n",
      "epoch:50 train_acc:94.21 test_acc:88.23\n",
      "epoch:50 train_loss:0.16 test_loss:0.39\n",
      "time: 4152.072886943817\n",
      "Finished Training of AlexNet\n"
     ]
    }
   ],
   "source": [
    "#Loss\n",
    "criterion = nn.CrossEntropyLoss()\n",
    "\n",
    "#Optimizer(SGD)\n",
    "#optimizer = optim.SGD(AlexNet_model.parameters(), lr=0.0005, momentum=0.9)\n",
    "optimizer = torch.optim.Adam(AlexNet_model.parameters(), lr = 0.0005, weight_decay=0.0001)\n",
    "start = time.time()\n",
    "\n",
    "for epoch in range(50):  # loop over the dataset multiple times\n",
    "    running_loss = 0.0\n",
    "    for i, data in enumerate(trainloader, 0):\n",
    "        # get the inputs; data is a list of [inputs, labels]\n",
    "        inputs, labels = data[0].to(device), data[1].to(device)\n",
    "\n",
    "        # zero the parameter gradients\n",
    "        optimizer.zero_grad()\n",
    "\n",
    "        # forward + backward + optimize\n",
    "        output = AlexNet_model(inputs)\n",
    "        loss = criterion(output, labels)\n",
    "        loss.backward()\n",
    "        optimizer.step()\n",
    "\n",
    "        # print statistics\n",
    "        running_loss += loss.item()\n",
    "        if i % 100 == 99:    # print every 100 mini-batches\n",
    "            print('[%d, %5d] loss: %.3f' % (epoch + 1, i + 1, running_loss / 100))\n",
    "            running_loss = 0.0\n",
    "         \n",
    "    #Testing Accuracy\n",
    "    correct_test = 0\n",
    "    total_test = 0\n",
    "    with torch.no_grad():\n",
    "        running_loss = 0.0\n",
    "        for i, data in enumerate(testloader,0):\n",
    "            images, labels = data[0].to(device), data[1].to(device)\n",
    "            outputs = AlexNet_model(images)\n",
    "            loss = criterion(outputs, labels)\n",
    "            _, predicted_test = torch.max(outputs.data, 1)\n",
    "            total_test += labels.size(0)\n",
    "            correct_test += (predicted_test == labels).sum().item()\n",
    "            # print statistics\n",
    "            running_loss += loss.item()\n",
    "\n",
    "    test_loss = running_loss/i\n",
    "    test_acc = 100 * correct_test / total_test\n",
    "                    \n",
    "                    \n",
    "    #Training Accuracy\n",
    "    correct_train = 0\n",
    "    total_train = 0\n",
    "    with torch.no_grad():\n",
    "        running_loss=0.0\n",
    "        for j,data in enumerate(trainloader,0):\n",
    "            images, labels = data[0].to(device), data[1].to(device)\n",
    "            outputs = AlexNet_model(images)\n",
    "            loss = criterion(outputs, labels)\n",
    "            _, predicted_train = torch.max(outputs.data, 1)\n",
    "            total_train += labels.size(0)\n",
    "            correct_train += (predicted_train == labels).sum().item()\n",
    "            running_loss += loss.item()\n",
    "            \n",
    "    train_loss = running_loss /j\n",
    "    train_acc = 100 * correct_train / total_train\n",
    "    \n",
    "    if abs(train_acc-test_acc)<=10:\n",
    "        print(\"epoch:%d train_acc:%0.2f test_acc:%0.2f\" % (epoch+1,train_acc, test_acc))\n",
    "        print(\"epoch:%d train_loss:%0.2f test_loss:%0.2f\" % (epoch+1,train_loss, test_loss))\n",
    "    else:\n",
    "        print(\"Overfitting!\", train_acc, test_acc)\n",
    "    train_losses.append(train_loss)\n",
    "    test_losses.append(test_loss)\n",
    "    train_accs.append(train_acc)\n",
    "    test_accs.append(test_acc)\n",
    "    print(\"time: {}\".format(time.time()-start))\n",
    "print('Finished Training of AlexNet')"
   ]
  },
  {
   "cell_type": "code",
   "execution_count": 41,
   "metadata": {
    "scrolled": false
   },
   "outputs": [
    {
     "data": {
      "image/png": "[encoded data removed]",
      "text/plain": [
       "<Figure size 432x288 with 1 Axes>"
      ]
     },
     "metadata": {
      "needs_background": "light"
     },
     "output_type": "display_data"
    },
    {
     "data": {
      "image/png": "[encoded data removed]",
      "text/plain": [
       "<Figure size 432x288 with 1 Axes>"
      ]
     },
     "metadata": {
      "needs_background": "light"
     },
     "output_type": "display_data"
    },
    {
     "name": "stdout",
     "output_type": "stream",
     "text": [
      "Train accuracy:  94.21\n",
      "Test accuracy:  88.23\n"
     ]
    }
   ],
   "source": [
    "# plotting test/train loss\n",
    "xrange = np.linspace(1,50,50,endpoint=False)\n",
    "plt.title('loss')\n",
    "plt.plot(xrange,train_losses), plt.plot(xrange,test_losses)\n",
    "plt.legend(['train', 'test'])\n",
    "plt.xlabel(\"epoch\")\n",
    "plt.show()\n",
    "\n",
    "# plotting test/train accuracy\n",
    "plt.title('accuracy')\n",
    "plt.plot(xrange,train_accs), plt.plot(xrange,test_accs)\n",
    "plt.legend(['train', 'test'])\n",
    "plt.xlabel(\"epoch\")\n",
    "plt.show()\n",
    "print(\"Train accuracy: \", train_accs[-1])\n",
    "print(\"Test accuracy: \",test_accs[-1])"
   ]
  },
  {
   "cell_type": "code",
   "execution_count": 42,
   "metadata": {},
   "outputs": [],
   "source": [
    "torch.save(AlexNet_model,'model.pt')"
   ]
  },
  {
   "cell_type": "code",
   "execution_count": 246,
   "metadata": {},
   "outputs": [
    {
     "name": "stdout",
     "output_type": "stream",
     "text": [
      "Accuracy of the network on the 10000 train images: 94.09 %\n"
     ]
    }
   ],
   "source": [
    "#Training Accuracy\n",
    "correct= 0\n",
    "total = 0\n",
    "with torch.no_grad():\n",
    "    for data in trainloader:\n",
    "        images, labels = data[0].to(device), data[1].to(device)\n",
    "        outputs = AlexNet_model(images)\n",
    "        _, predicted = torch.max(outputs.data, 1)\n",
    "        total += labels.size(0)\n",
    "        correct += (predicted == labels).sum().item()\n",
    "\n",
    "print('Accuracy of the network on the 10000 train images: %0.2f %%' % (100 * correct / total))"
   ]
  },
  {
   "cell_type": "code",
   "execution_count": 247,
   "metadata": {},
   "outputs": [
    {
     "name": "stdout",
     "output_type": "stream",
     "text": [
      "Accuracy of the network on the 10000 test images: 86.47 %\n"
     ]
    }
   ],
   "source": [
    "#Testing Accuracy\n",
    "correct = 0\n",
    "total = 0\n",
    "with torch.no_grad():\n",
    "    for data in testloader:\n",
    "        images, labels = data[0].to(device), data[1].to(device)\n",
    "        outputs = AlexNet_model(images)\n",
    "        _, predicted = torch.max(outputs.data, 1)\n",
    "        total += labels.size(0)\n",
    "        correct += (predicted == labels).sum().item()\n",
    "\n",
    "print('Accuracy of the network on the 10000 test images: %0.2f %%' % (\n",
    "    100 * correct / total))"
   ]
  }
 ],
 "metadata": {
  "kernelspec": {
   "display_name": "Python 3",
   "language": "python",
   "name": "python3"
  },
  "language_info": {
   "codemirror_mode": {
    "name": "ipython",
    "version": 3
   },
   "file_extension": ".py",
   "mimetype": "text/x-python",
   "name": "python",
   "nbconvert_exporter": "python",
   "pygments_lexer": "ipython3",
   "version": "3.7.4"
  }
 },
 "nbformat": 4,
 "nbformat_minor": 2
}
